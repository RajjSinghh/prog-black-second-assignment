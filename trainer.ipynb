{
 "cells": [
  {
   "cell_type": "code",
   "execution_count": null,
   "metadata": {},
   "outputs": [],
   "source": [
    "#Necessary imports\n",
    "import os\n",
    "import numpy as np\n",
    "import matplotlib.pyplot as plt\n",
    "import tensorflow as tf\n",
    "\n",
    "%matplotlib inline "
   ]
  },
  {
   "cell_type": "code",
   "execution_count": null,
   "metadata": {},
   "outputs": [],
   "source": [
    "#Load numpy archives from data directory \n",
    "data = []\n",
    "for i in os.listdir(\"data\"):\n",
    "    data.append(np.load(f\"data/{i}\").reshape((-1, 28, 28)))"
   ]
  },
  {
   "cell_type": "code",
   "execution_count": null,
   "metadata": {},
   "outputs": [],
   "source": [
    "#Check data shape\n",
    "for i in data:\n",
    "    print(i.shape)"
   ]
  },
  {
   "cell_type": "code",
   "execution_count": null,
   "metadata": {},
   "outputs": [],
   "source": [
    "#Plots\n",
    "plt.imshow(data[1][0])"
   ]
  },
  {
   "cell_type": "code",
   "execution_count": null,
   "metadata": {},
   "outputs": [],
   "source": [
    "\"\"\"\n",
    "Order of Data:\n",
    "tooth\n",
    "hand\n",
    "tree\n",
    "sun\n",
    "rainbow\n",
    "alarm clock\n",
    "hockey stick\n",
    "bear\n",
    "eraser\n",
    "\"\"\""
   ]
  },
  {
   "cell_type": "code",
   "execution_count": null,
   "metadata": {},
   "outputs": [],
   "source": [
    "#Create training and testing dataset\n",
    "CATEGORIES = [\"tooth\", \"hand\", \"tree\", \"sun\", \"rainbow\", \"alarm clock\", \"hockey stick\", \"bear\", \"eraser\"]\n",
    "\n",
    "training = []\n",
    "\n",
    "testing = []\n",
    "\n",
    "for c, i in enumerate(data):\n",
    "    for j in i[:len(i) // 2]:\n",
    "        training.append([j, c])\n",
    "    for j in i[len(i) // 2:]:\n",
    "        testing.append([j, c])"
   ]
  },
  {
   "cell_type": "code",
   "execution_count": null,
   "metadata": {},
   "outputs": [],
   "source": [
    "#Shuffle dataset\n",
    "import random\n",
    "random.shuffle(training)\n",
    "\n",
    "for i in training[:50]:\n",
    "    print(i[1])"
   ]
  },
  {
   "cell_type": "code",
   "execution_count": null,
   "metadata": {},
   "outputs": [],
   "source": [
    "#Turn training dataset into labelled numpy arrays\n",
    "x_train, y_train = [], []\n",
    "\n",
    "for i, l in training:\n",
    "    x_train.append(i)\n",
    "    y_train.append(l)\n",
    "    \n",
    "x_train = np.array(x_train).reshape(-1, 28, 28, 1)\n",
    "y_train = np.array(y_train)"
   ]
  },
  {
   "cell_type": "code",
   "execution_count": null,
   "metadata": {},
   "outputs": [],
   "source": [
    "#Create model\n",
    "\n",
    "model = tf.keras.models.Sequential([\n",
    "    tf.keras.layers.Flatten(input_shape=(28, 28)),\n",
    "    tf.keras.layers.Dense(784, activation=\"relu\"),\n",
    "    tf.keras.layers.Dense(784, activation=\"relu\"),\n",
    "    tf.keras.layers.Dropout(0.3),\n",
    "    tf.keras.layers.Dense(10, activation=\"softmax\")\n",
    "        ])\n",
    "  \n",
    "model.compile(optimizer=\"adam\",\n",
    "      loss=\"sparse_categorical_crossentropy\",\n",
    "      metrics=[\"accuracy\"])"
   ]
  },
  {
   "cell_type": "code",
   "execution_count": null,
   "metadata": {},
   "outputs": [],
   "source": [
    "#Train model\n",
    "model.fit(x_train, y_train, epochs=10)"
   ]
  },
  {
   "cell_type": "code",
   "execution_count": null,
   "metadata": {},
   "outputs": [],
   "source": [
    "#Create testing dataset\n",
    "x_test, y_test = [], []\n",
    "\n",
    "random.shuffle(testing)\n",
    "\n",
    "for i, l in testing:\n",
    "    x_test.append(i)\n",
    "    y_test.append(l)\n",
    "    \n",
    "x_test = np.array(x_test).reshape((-1, 28, 28, 1))\n",
    "y_test = np.array(y_test)"
   ]
  },
  {
   "cell_type": "code",
   "execution_count": null,
   "metadata": {},
   "outputs": [],
   "source": [
    "#Check model performance on testing dataset\n",
    "model.evaluate(x_test, y_test)"
   ]
  },
  {
   "cell_type": "code",
   "execution_count": null,
   "metadata": {},
   "outputs": [],
   "source": [
    "#See network perform on specific data\n",
    "predictions = model.predict(x_test[:100])"
   ]
  },
  {
   "cell_type": "code",
   "execution_count": null,
   "metadata": {},
   "outputs": [],
   "source": [
    "#Run this cell to see a random element of the testing set and  model prediction\n",
    "sample = random.randint(0, 99)\n",
    "\n",
    "print(f\"Network guess: {CATEGORIES[np.argmax(predictions[sample])]}\")\n",
    "print(f\"Actual truth: {CATEGORIES[y_test[sample]]}\")\n",
    "\n",
    "plt.imshow(x_test[sample])"
   ]
  },
  {
   "cell_type": "code",
   "execution_count": null,
   "metadata": {},
   "outputs": [],
   "source": [
    "model.save(\"saved_models/mymodel.h5\")"
   ]
  }
 ],
 "metadata": {
  "kernelspec": {
   "display_name": "Python 3",
   "language": "python",
   "name": "python3"
  },
  "language_info": {
   "codemirror_mode": {
    "name": "ipython",
    "version": 3
   },
   "file_extension": ".py",
   "mimetype": "text/x-python",
   "name": "python",
   "nbconvert_exporter": "python",
   "pygments_lexer": "ipython3",
   "version": "3.8.6-final"
  }
 },
 "nbformat": 4,
 "nbformat_minor": 4
}