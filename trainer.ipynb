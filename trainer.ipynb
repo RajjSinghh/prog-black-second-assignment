{
 "cells": [
  {
   "cell_type": "code",
   "execution_count": 1,
   "metadata": {},
   "outputs": [],
   "source": [
    "#Necessary imports\n",
    "import numpy as np\n",
    "import matplotlib.pyplot as plt\n",
    "import tensorflow as tf\n",
    "\n",
    "%matplotlib inline "
   ]
  },
  {
   "cell_type": "code",
   "execution_count": 2,
   "metadata": {},
   "outputs": [],
   "source": [
    "#Load numpy archives from data directory \n",
    "\n",
    "clocks = np.load(\"data/full_numpy_bitmap_alarm clock.npy\")\n",
    "clocks = clocks.reshape((-1, 28, 28))\n",
    "\n",
    "bears = np.load(\"data/full_numpy_bitmap_bear.npy\")\n",
    "bears = bears.reshape((-1, 28, 28))"
   ]
  },
  {
   "cell_type": "code",
   "execution_count": 3,
   "metadata": {},
   "outputs": [
    {
     "data": {
      "text/plain": [
       "(134762, 28, 28)"
      ]
     },
     "execution_count": 3,
     "metadata": {},
     "output_type": "execute_result"
    }
   ],
   "source": [
    "#Check data shape\n",
    "clocks.shape\n",
    "bears.shape"
   ]
  },
  {
   "cell_type": "code",
   "execution_count": 4,
   "metadata": {},
   "outputs": [
    {
     "data": {
      "text/plain": [
       "<matplotlib.image.AxesImage at 0x7f710464f5b0>"
      ]
     },
     "execution_count": 4,
     "metadata": {},
     "output_type": "execute_result"
    },
    {
     "data": {
      "image/png": "[encoded data removed]",
      "text/plain": [
       "<Figure size 432x288 with 1 Axes>"
      ]
     },
     "metadata": {
      "needs_background": "light"
     },
     "output_type": "display_data"
    }
   ],
   "source": [
    "#Example from clocks\n",
    "plt.imshow(clocks[0])"
   ]
  },
  {
   "cell_type": "code",
   "execution_count": 5,
   "metadata": {},
   "outputs": [
    {
     "data": {
      "text/plain": [
       "<matplotlib.image.AxesImage at 0x7f70bcad34f0>"
      ]
     },
     "execution_count": 5,
     "metadata": {},
     "output_type": "execute_result"
    },
    {
     "data": {
      "image/png": "[encoded data removed]",
      "text/plain": [
       "<Figure size 432x288 with 1 Axes>"
      ]
     },
     "metadata": {
      "needs_background": "light"
     },
     "output_type": "display_data"
    }
   ],
   "source": [
    "#Example from bears\n",
    "plt.imshow(bears[0])"
   ]
  },
  {
   "cell_type": "code",
   "execution_count": 6,
   "metadata": {},
   "outputs": [],
   "source": [
    "#Create training dataset\n",
    "CATEGORIES = [\"alarm clock\", \"bear\"]\n",
    "\n",
    "training = []\n",
    "\n",
    "testing = []\n",
    "\n",
    "a1, a2 = clocks[:clocks.shape[0]//2], clocks[clocks.shape[0]//2:]\n",
    "\n",
    "b1, b2 = bears[:bears.shape[0]//2], bears[bears.shape[0]//2:]\n",
    "\n",
    "for i in a1:\n",
    "    training.append([i, 0])\n",
    "    \n",
    "for i in b1:\n",
    "    training.append([i, 1])\n",
    "    \n"
   ]
  },
  {
   "cell_type": "code",
   "execution_count": 7,
   "metadata": {},
   "outputs": [
    {
     "name": "stdout",
     "output_type": "stream",
     "text": [
      "0\n",
      "0\n",
      "0\n",
      "1\n",
      "1\n",
      "1\n",
      "0\n",
      "1\n",
      "0\n",
      "1\n",
      "1\n",
      "0\n",
      "1\n",
      "1\n",
      "1\n",
      "0\n",
      "0\n",
      "0\n",
      "0\n",
      "1\n",
      "0\n",
      "0\n",
      "0\n",
      "1\n",
      "0\n",
      "0\n",
      "0\n",
      "1\n",
      "0\n",
      "0\n",
      "0\n",
      "0\n",
      "0\n",
      "0\n",
      "1\n",
      "1\n",
      "1\n",
      "0\n",
      "1\n",
      "1\n",
      "0\n",
      "1\n",
      "0\n",
      "1\n",
      "0\n",
      "1\n",
      "0\n",
      "0\n",
      "1\n",
      "0\n"
     ]
    }
   ],
   "source": [
    "#Shuffle dataset\n",
    "import random\n",
    "random.shuffle(training)\n",
    "\n",
    "for i in training[:50]:\n",
    "    print(i[1])"
   ]
  },
  {
   "cell_type": "code",
   "execution_count": 8,
   "metadata": {},
   "outputs": [],
   "source": [
    "#Turn training dataset into labelled numpy arrays\n",
    "x_train, y_train = [], []\n",
    "\n",
    "for i, l in training:\n",
    "    x_train.append(i)\n",
    "    y_train.append(l)\n",
    "    \n",
    "x_train = np.array(x_train).reshape(-1, 28, 28, 1)\n",
    "y_train = np.array(y_train)"
   ]
  },
  {
   "cell_type": "code",
   "execution_count": 9,
   "metadata": {},
   "outputs": [],
   "source": [
    "#Create model\n",
    "\n",
    "model = tf.keras.models.Sequential([\n",
    "    tf.keras.layers.Flatten(input_shape=(28, 28)),\n",
    "    tf.keras.layers.Dense(128, activation=\"relu\"),\n",
    "    tf.keras.layers.Dense(128, activation=\"relu\"),\n",
    "    tf.keras.layers.Dropout(0.2),\n",
    "    tf.keras.layers.Dense(10, activation=\"softmax\")\n",
    "        ])\n",
    "  \n",
    "model.compile(optimizer=\"adam\",\n",
    "      loss=\"sparse_categorical_crossentropy\",\n",
    "      metrics=[\"accuracy\"])\n",
    "  \n",
    "\n"
   ]
  },
  {
   "cell_type": "code",
   "execution_count": 10,
   "metadata": {},
   "outputs": [
    {
     "name": "stdout",
     "output_type": "stream",
     "text": [
      "Epoch 1/10\n",
      "4034/4034 [==============================] - 8s 2ms/step - loss: 2.7175 - accuracy: 0.7221\n",
      "Epoch 2/10\n",
      "4034/4034 [==============================] - 7s 2ms/step - loss: 0.3787 - accuracy: 0.8336\n",
      "Epoch 3/10\n",
      "4034/4034 [==============================] - 7s 2ms/step - loss: 0.3260 - accuracy: 0.8632\n",
      "Epoch 4/10\n",
      "4034/4034 [==============================] - 6s 2ms/step - loss: 0.2924 - accuracy: 0.8809\n",
      "Epoch 5/10\n",
      "4034/4034 [==============================] - 6s 2ms/step - loss: 0.2770 - accuracy: 0.8868\n",
      "Epoch 6/10\n",
      "4034/4034 [==============================] - 6s 2ms/step - loss: 0.2620 - accuracy: 0.8919\n",
      "Epoch 7/10\n",
      "4034/4034 [==============================] - 6s 2ms/step - loss: 0.2532 - accuracy: 0.8953\n",
      "Epoch 8/10\n",
      "4034/4034 [==============================] - 6s 2ms/step - loss: 0.2437 - accuracy: 0.8989\n",
      "Epoch 9/10\n",
      "4034/4034 [==============================] - 7s 2ms/step - loss: 0.2363 - accuracy: 0.9028\n",
      "Epoch 10/10\n",
      "4034/4034 [==============================] - 8s 2ms/step - loss: 0.2298 - accuracy: 0.9044\n"
     ]
    },
    {
     "data": {
      "text/plain": [
       "<tensorflow.python.keras.callbacks.History at 0x7f70b44e0790>"
      ]
     },
     "execution_count": 10,
     "metadata": {},
     "output_type": "execute_result"
    }
   ],
   "source": [
    "#Train model\n",
    "model.fit(x_train, y_train, epochs=10)"
   ]
  },
  {
   "cell_type": "code",
   "execution_count": 11,
   "metadata": {},
   "outputs": [],
   "source": [
    "#Create testing dataset\n",
    "for i in a2:\n",
    "    testing.append([i, 0])\n",
    "    \n",
    "for i in b2:\n",
    "    testing.append([i, 1])\n",
    "    \n",
    "random.shuffle(testing)\n",
    "\n",
    "x_test, y_test = [], []\n",
    "\n",
    "for i, l in testing:\n",
    "    x_test.append(i)\n",
    "    y_test.append(l)\n",
    "    \n",
    "x_test = np.array(x_test).reshape((-1, 28, 28, 1))\n",
    "y_test = np.array(y_test)"
   ]
  },
  {
   "cell_type": "code",
   "execution_count": 12,
   "metadata": {},
   "outputs": [
    {
     "name": "stdout",
     "output_type": "stream",
     "text": [
      "4034/4034 [==============================] - 4s 899us/step - loss: 0.3364 - accuracy: 0.8882\n"
     ]
    },
    {
     "data": {
      "text/plain": [
       "[0.33641621470451355, 0.8881787657737732]"
      ]
     },
     "execution_count": 12,
     "metadata": {},
     "output_type": "execute_result"
    }
   ],
   "source": [
    "#Check model performance on testing dataset\n",
    "model.evaluate(x_test, y_test)"
   ]
  },
  {
   "cell_type": "code",
   "execution_count": 13,
   "metadata": {},
   "outputs": [],
   "source": [
    "#See network perform on specific data\n",
    "predictions = model.predict(x_test)"
   ]
  },
  {
   "cell_type": "code",
   "execution_count": 14,
   "metadata": {},
   "outputs": [
    {
     "name": "stdout",
     "output_type": "stream",
     "text": [
      "1\n",
      "1\n"
     ]
    },
    {
     "data": {
      "text/plain": [
       "<matplotlib.image.AxesImage at 0x7f708c913910>"
      ]
     },
     "execution_count": 14,
     "metadata": {},
     "output_type": "execute_result"
    },
    {
     "data": {
      "image/png": "[encoded data removed]",
      "text/plain": [
       "<Figure size 432x288 with 1 Axes>"
      ]
     },
     "metadata": {
      "needs_background": "light"
     },
     "output_type": "display_data"
    }
   ],
   "source": [
    "#Run this cell to see a random element of the testing set and  model prediction\n",
    "sample = random.randint(0, 4033)\n",
    "\n",
    "\n",
    "print(np.argmax(predictions[sample]))\n",
    "print(y_test[sample])\n",
    "\n",
    "plt.imshow(x_test[sample])"
   ]
  },
  {
   "cell_type": "code",
   "execution_count": 17,
   "metadata": {},
   "outputs": [],
   "source": [
    "model.save(\"saved_models/test.h5\")"
   ]
  }
 ],
 "metadata": {
  "kernelspec": {
   "display_name": "Python 3",
   "language": "python",
   "name": "python3"
  },
  "language_info": {
   "codemirror_mode": {
    "name": "ipython",
    "version": 3
   },
   "file_extension": ".py",
   "mimetype": "text/x-python",
   "name": "python",
   "nbconvert_exporter": "python",
   "pygments_lexer": "ipython3",
   "version": "3.8.6"
  }
 },
 "nbformat": 4,
 "nbformat_minor": 4
}
