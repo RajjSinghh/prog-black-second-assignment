{
 "cells": [
  {
   "cell_type": "code",
   "execution_count": 2,
   "metadata": {},
   "outputs": [],
   "source": [
    "#Necessary imports\n",
    "import os\n",
    "import numpy as np\n",
    "import matplotlib.pyplot as plt\n",
    "import tensorflow as tf\n",
    "\n",
    "%matplotlib inline "
   ]
  },
  {
   "cell_type": "code",
   "execution_count": 3,
   "metadata": {},
   "outputs": [],
   "source": [
    "#Load numpy archives from data directory \n",
    "data = []\n",
    "for i in os.listdir(\"data\"):\n",
    "    data.append(np.load(f\"data/{i}\").reshape((-1, 28, 28)))"
   ]
  },
  {
   "cell_type": "code",
   "execution_count": 4,
   "metadata": {},
   "outputs": [],
   "source": [
    "#Create training and testing dataset\n",
    "CATEGORIES = [\"alarm clock\", \"hand\", \"sun\", \"tooth\", \"tree\"]\n",
    "training = []\n",
    "testing = []\n",
    "\n",
    "for c, i in enumerate(data):\n",
    "    for j in i[:len(i) // 2]:\n",
    "        training.append([j, c])\n",
    "    for j in i[len(i) // 2:]:\n",
    "        testing.append([j, c])"
   ]
  },
  {
   "cell_type": "code",
   "execution_count": 5,
   "metadata": {},
   "outputs": [],
   "source": [
    "#Shuffle dataset\n",
    "import random\n",
    "random.shuffle(training)"
   ]
  },
  {
   "cell_type": "code",
   "execution_count": 6,
   "metadata": {},
   "outputs": [],
   "source": [
    "#Turn training dataset into labelled numpy arrays\n",
    "x_train, y_train = [], []\n",
    "\n",
    "for i, l in training:\n",
    "    x_train.append(i)\n",
    "    y_train.append(l)\n",
    "    \n",
    "x_train = np.array(x_train).reshape(-1, 28, 28, 1)\n",
    "y_train = np.array(y_train)"
   ]
  },
  {
   "cell_type": "code",
   "execution_count": 27,
   "metadata": {},
   "outputs": [],
   "source": [
    "#Create model\n",
    "callback = tf.keras.callbacks.EarlyStopping(monitor='loss', patience = 2)\n",
    "#possibly change optimiser to tf.keras.optimizers.SGD(), loss = 'mse'\n",
    "model = tf.keras.models.Sequential([\n",
    "    tf.keras.layers.Flatten(input_shape=(28, 28)),\n",
    "    tf.keras.layers.Dense(790, activation=\"relu\"),\n",
    "    tf.keras.layers.Dense(784, activation=\"relu\"),\n",
    "    tf.keras.layers.Dropout(0.1),\n",
    "    tf.keras.layers.Flatten(input_shape=(28, 28)),\n",
    "    tf.keras.layers.Dense(784, activation=\"relu\"),\n",
    "    tf.keras.layers.Dense(784, activation=\"relu\"),\n",
    "    tf.keras.layers.Dense(10, activation=\"softmax\")\n",
    "        ])\n",
    "  \n",
    "model.compile(optimizer=\"adam\",\n",
    "      loss=\"sparse_categorical_crossentropy\",\n",
    "      metrics=[\"accuracy\"])\n"
   ]
  },
  {
   "cell_type": "code",
   "execution_count": 28,
   "metadata": {
    "scrolled": true
   },
   "outputs": [
    {
     "name": "stdout",
     "output_type": "stream",
     "text": [
      "Epoch 1/10\n",
      "12793/12793 [==============================] - 228s 18ms/step - loss: 0.4005 - accuracy: 0.8882\n",
      "Epoch 2/10\n",
      "12793/12793 [==============================] - 200s 16ms/step - loss: 0.2404 - accuracy: 0.9240\n",
      "Epoch 3/10\n",
      "12793/12793 [==============================] - 199s 16ms/step - loss: 0.2119 - accuracy: 0.9339\n",
      "Epoch 4/10\n",
      "12793/12793 [==============================] - 943s 74ms/step - loss: 0.1968 - accuracy: 0.9392\n",
      "Epoch 5/10\n",
      "12793/12793 [==============================] - 198s 15ms/step - loss: 0.1825 - accuracy: 0.9428\n",
      "Epoch 6/10\n",
      "12793/12793 [==============================] - 198s 15ms/step - loss: 0.1763 - accuracy: 0.9464\n",
      "Epoch 7/10\n",
      "12793/12793 [==============================] - 198s 15ms/step - loss: 0.1679 - accuracy: 0.9492\n",
      "Epoch 8/10\n",
      "12793/12793 [==============================] - 198s 15ms/step - loss: 0.1615 - accuracy: 0.9513\n",
      "Epoch 9/10\n",
      "12793/12793 [==============================] - 16697s 1s/step - loss: 0.1586 - accuracy: 0.9533\n",
      "Epoch 10/10\n",
      "12793/12793 [==============================] - 229s 18ms/step - loss: 0.1595 - accuracy: 0.9543\n"
     ]
    },
    {
     "data": {
      "text/plain": [
       "<tensorflow.python.keras.callbacks.History at 0x2a2ec4b2bb0>"
      ]
     },
     "execution_count": 28,
     "metadata": {},
     "output_type": "execute_result"
    }
   ],
   "source": [
    "#Train model\n",
    "model.fit(x_train, y_train, epochs=10, callbacks=[callback])"
   ]
  },
  {
   "cell_type": "code",
   "execution_count": 29,
   "metadata": {},
   "outputs": [],
   "source": [
    "#Create testing dataset\n",
    "x_test, y_test = [], []\n",
    "\n",
    "random.shuffle(testing)\n",
    "\n",
    "for i, l in testing:\n",
    "    x_test.append(i)\n",
    "    y_test.append(l)\n",
    "    \n",
    "x_test = np.array(x_test).reshape((-1, 28, 28, 1))\n",
    "y_test = np.array(y_test)"
   ]
  },
  {
   "cell_type": "code",
   "execution_count": 30,
   "metadata": {},
   "outputs": [
    {
     "name": "stdout",
     "output_type": "stream",
     "text": [
      "12793/12793 [==============================] - 53s 4ms/step - loss: 0.2547 - accuracy: 0.9432\n"
     ]
    },
    {
     "data": {
      "text/plain": [
       "[0.25465092062950134, 0.9431933164596558]"
      ]
     },
     "execution_count": 30,
     "metadata": {},
     "output_type": "execute_result"
    }
   ],
   "source": [
    "#Check model performance on testing dataset\n",
    "model.evaluate(x_test, y_test)"
   ]
  },
  {
   "cell_type": "code",
   "execution_count": 22,
   "metadata": {},
   "outputs": [
    {
     "name": "stdout",
     "output_type": "stream",
     "text": [
      "[[4.87226134e-06 1.62885757e-04 5.69468341e-07 1.45201066e-05\n",
      "  9.99817193e-01 0.00000000e+00 0.00000000e+00 0.00000000e+00\n",
      "  0.00000000e+00 0.00000000e+00]\n",
      " [2.22059438e-09 9.99904990e-01 2.02534864e-12 5.00170785e-08\n",
      "  9.50575632e-05 0.00000000e+00 0.00000000e+00 0.00000000e+00\n",
      "  0.00000000e+00 0.00000000e+00]\n",
      " [5.90262905e-14 9.99999046e-01 1.18811994e-18 8.31563898e-12\n",
      "  9.44699138e-07 0.00000000e+00 0.00000000e+00 0.00000000e+00\n",
      "  0.00000000e+00 0.00000000e+00]\n",
      " [2.05118030e-01 3.21584046e-01 2.25936130e-01 1.50407732e-01\n",
      "  9.69518945e-02 7.31744819e-07 3.58345631e-07 3.56265332e-07\n",
      "  2.95900151e-07 3.91677759e-07]\n",
      " [1.08208545e-01 6.16717786e-02 7.39593565e-01 7.37351179e-02\n",
      "  1.67910028e-02 0.00000000e+00 0.00000000e+00 0.00000000e+00\n",
      "  0.00000000e+00 0.00000000e+00]\n",
      " [9.04496968e-01 1.24175986e-02 9.42220259e-03 7.15267956e-02\n",
      "  2.13629589e-03 0.00000000e+00 0.00000000e+00 0.00000000e+00\n",
      "  0.00000000e+00 0.00000000e+00]\n",
      " [0.00000000e+00 0.00000000e+00 1.00000000e+00 0.00000000e+00\n",
      "  0.00000000e+00 0.00000000e+00 0.00000000e+00 0.00000000e+00\n",
      "  0.00000000e+00 0.00000000e+00]\n",
      " [9.99553621e-01 2.25739385e-07 2.04847282e-07 4.45887970e-04\n",
      "  1.05390390e-08 0.00000000e+00 0.00000000e+00 0.00000000e+00\n",
      "  0.00000000e+00 0.00000000e+00]\n",
      " [8.14071388e-09 9.99773681e-01 1.15308136e-11 1.49671337e-07\n",
      "  2.26246819e-04 0.00000000e+00 0.00000000e+00 0.00000000e+00\n",
      "  0.00000000e+00 0.00000000e+00]\n",
      " [1.68617237e-06 9.98917580e-01 1.78183637e-08 1.15360144e-05\n",
      "  1.06918148e-03 0.00000000e+00 0.00000000e+00 0.00000000e+00\n",
      "  0.00000000e+00 0.00000000e+00]\n",
      " [1.54881401e-03 7.10275999e-05 9.97485995e-01 8.79198022e-04\n",
      "  1.50026463e-05 0.00000000e+00 0.00000000e+00 0.00000000e+00\n",
      "  0.00000000e+00 0.00000000e+00]\n",
      " [1.38536561e-11 1.16361196e-12 5.96609187e-20 1.00000000e+00\n",
      "  6.89840437e-14 0.00000000e+00 0.00000000e+00 0.00000000e+00\n",
      "  0.00000000e+00 0.00000000e+00]\n",
      " [2.05118030e-01 3.21584046e-01 2.25936130e-01 1.50407732e-01\n",
      "  9.69518945e-02 7.31744819e-07 3.58345631e-07 3.56265332e-07\n",
      "  2.95900151e-07 3.91677759e-07]\n",
      " [5.30941263e-02 1.80998653e-01 3.30911577e-02 5.55781052e-02\n",
      "  6.77237988e-01 0.00000000e+00 0.00000000e+00 0.00000000e+00\n",
      "  0.00000000e+00 0.00000000e+00]\n",
      " [1.16866542e-12 7.37514840e-14 7.59438287e-22 1.00000000e+00\n",
      "  3.73003537e-15 0.00000000e+00 0.00000000e+00 0.00000000e+00\n",
      "  0.00000000e+00 0.00000000e+00]\n",
      " [2.20569859e-07 1.52952525e-05 1.51002038e-08 9.18313901e-07\n",
      "  9.99983549e-01 0.00000000e+00 0.00000000e+00 0.00000000e+00\n",
      "  0.00000000e+00 0.00000000e+00]\n",
      " [5.70303809e-19 6.70552590e-21 5.51632867e-33 1.00000000e+00\n",
      "  1.33305326e-22 0.00000000e+00 0.00000000e+00 0.00000000e+00\n",
      "  0.00000000e+00 0.00000000e+00]\n",
      " [6.04471226e-13 0.00000000e+00 1.00000000e+00 0.00000000e+00\n",
      "  0.00000000e+00 0.00000000e+00 0.00000000e+00 0.00000000e+00\n",
      "  0.00000000e+00 0.00000000e+00]\n",
      " [9.99927878e-01 4.68451100e-09 4.52715332e-09 7.21509277e-05\n",
      "  1.38219172e-10 0.00000000e+00 0.00000000e+00 0.00000000e+00\n",
      "  0.00000000e+00 0.00000000e+00]\n",
      " [1.59535049e-17 1.00000000e+00 2.76097183e-23 6.30305168e-15\n",
      "  1.48815904e-10 0.00000000e+00 0.00000000e+00 0.00000000e+00\n",
      "  0.00000000e+00 0.00000000e+00]\n",
      " [1.88695845e-33 1.00000000e+00 0.00000000e+00 2.54919289e-28\n",
      "  1.33285123e-20 0.00000000e+00 0.00000000e+00 0.00000000e+00\n",
      "  0.00000000e+00 0.00000000e+00]\n",
      " [1.46874385e-02 2.37616990e-03 9.73231375e-01 9.13520996e-03\n",
      "  5.69866970e-04 0.00000000e+00 0.00000000e+00 0.00000000e+00\n",
      "  0.00000000e+00 0.00000000e+00]\n",
      " [9.55694675e-01 3.09871486e-03 2.40700901e-03 3.83502580e-02\n",
      "  4.49358165e-04 0.00000000e+00 0.00000000e+00 0.00000000e+00\n",
      "  0.00000000e+00 0.00000000e+00]\n",
      " [3.08501208e-03 2.07593795e-04 9.94861305e-01 1.80059089e-03\n",
      "  4.55754816e-05 0.00000000e+00 0.00000000e+00 0.00000000e+00\n",
      "  0.00000000e+00 0.00000000e+00]\n",
      " [4.22458834e-14 9.99999523e-01 7.95700135e-19 6.04974144e-12\n",
      "  4.74680604e-07 0.00000000e+00 0.00000000e+00 0.00000000e+00\n",
      "  0.00000000e+00 0.00000000e+00]\n",
      " [9.99071836e-01 1.06925722e-06 9.46081570e-07 9.26021487e-04\n",
      "  6.00178609e-08 0.00000000e+00 0.00000000e+00 0.00000000e+00\n",
      "  0.00000000e+00 0.00000000e+00]\n",
      " [1.99584446e-11 9.99987006e-01 3.28427644e-15 1.02601860e-09\n",
      "  1.29356768e-05 0.00000000e+00 0.00000000e+00 0.00000000e+00\n",
      "  0.00000000e+00 0.00000000e+00]\n",
      " [9.91597593e-01 1.11324051e-04 9.13295007e-05 8.18887167e-03\n",
      "  1.08406775e-05 0.00000000e+00 0.00000000e+00 0.00000000e+00\n",
      "  0.00000000e+00 0.00000000e+00]\n",
      " [1.44039688e-03 9.59341109e-01 1.67685022e-04 3.16192117e-03\n",
      "  3.58889215e-02 0.00000000e+00 0.00000000e+00 0.00000000e+00\n",
      "  0.00000000e+00 0.00000000e+00]\n",
      " [0.00000000e+00 0.00000000e+00 1.00000000e+00 0.00000000e+00\n",
      "  0.00000000e+00 0.00000000e+00 0.00000000e+00 0.00000000e+00\n",
      "  0.00000000e+00 0.00000000e+00]\n",
      " [2.19823786e-08 9.99793589e-01 4.70515189e-11 3.26405996e-07\n",
      "  2.06044657e-04 0.00000000e+00 0.00000000e+00 0.00000000e+00\n",
      "  0.00000000e+00 0.00000000e+00]\n",
      " [7.17252646e-11 9.99978185e-01 1.88200421e-14 2.94339442e-09\n",
      "  2.18625664e-05 0.00000000e+00 0.00000000e+00 0.00000000e+00\n",
      "  0.00000000e+00 0.00000000e+00]\n",
      " [9.60145295e-01 2.53535388e-03 1.97598035e-03 3.49844955e-02\n",
      "  3.58833262e-04 0.00000000e+00 0.00000000e+00 0.00000000e+00\n",
      "  0.00000000e+00 0.00000000e+00]\n",
      " [1.38279543e-17 2.35061517e-19 1.53221137e-30 1.00000000e+00\n",
      "  5.73536543e-21 0.00000000e+00 0.00000000e+00 0.00000000e+00\n",
      "  0.00000000e+00 0.00000000e+00]\n",
      " [6.61293741e-20 1.00000000e+00 1.95713232e-26 5.73585830e-17\n",
      "  1.52663613e-12 0.00000000e+00 0.00000000e+00 0.00000000e+00\n",
      "  0.00000000e+00 0.00000000e+00]\n",
      " [5.90238087e-05 9.92281497e-01 2.17794627e-06 2.23843206e-04\n",
      "  7.43358117e-03 0.00000000e+00 0.00000000e+00 0.00000000e+00\n",
      "  0.00000000e+00 0.00000000e+00]\n",
      " [2.95755905e-18 1.00000000e+00 3.26164323e-24 1.38665816e-15\n",
      "  1.46485740e-11 0.00000000e+00 0.00000000e+00 0.00000000e+00\n",
      "  0.00000000e+00 0.00000000e+00]\n",
      " [0.00000000e+00 1.00000000e+00 0.00000000e+00 0.00000000e+00\n",
      "  1.35644084e-35 0.00000000e+00 0.00000000e+00 0.00000000e+00\n",
      "  0.00000000e+00 0.00000000e+00]\n",
      " [5.67049887e-19 6.66289298e-21 5.46088684e-33 1.00000000e+00\n",
      "  1.32407274e-22 0.00000000e+00 0.00000000e+00 0.00000000e+00\n",
      "  0.00000000e+00 0.00000000e+00]\n",
      " [1.16152667e-04 6.16284742e-05 9.87314479e-08 9.99812067e-01\n",
      "  1.01757078e-05 0.00000000e+00 0.00000000e+00 0.00000000e+00\n",
      "  0.00000000e+00 0.00000000e+00]\n",
      " [2.42300557e-17 1.00000000e+00 5.53359672e-23 8.08235704e-15\n",
      "  5.11999818e-11 0.00000000e+00 0.00000000e+00 0.00000000e+00\n",
      "  0.00000000e+00 0.00000000e+00]\n",
      " [8.01213205e-01 4.14527804e-02 3.07829157e-02 1.18206508e-01\n",
      "  8.34449101e-03 0.00000000e+00 0.00000000e+00 0.00000000e+00\n",
      "  0.00000000e+00 0.00000000e+00]\n",
      " [9.23230936e-12 6.89171520e-09 1.10698465e-13 1.14206269e-10\n",
      "  1.00000000e+00 0.00000000e+00 0.00000000e+00 0.00000000e+00\n",
      "  0.00000000e+00 0.00000000e+00]\n",
      " [1.22979209e-36 1.00000000e+00 0.00000000e+00 5.44711951e-31\n",
      "  1.69502719e-22 0.00000000e+00 0.00000000e+00 0.00000000e+00\n",
      "  0.00000000e+00 0.00000000e+00]\n",
      " [1.49897173e-19 1.00000000e+00 5.82426976e-26 1.14851434e-16\n",
      "  2.77118042e-12 0.00000000e+00 0.00000000e+00 0.00000000e+00\n",
      "  0.00000000e+00 0.00000000e+00]\n",
      " [2.07771910e-13 9.99999881e-01 9.07904590e-18 1.84089254e-11\n",
      "  6.89048250e-08 0.00000000e+00 0.00000000e+00 0.00000000e+00\n",
      "  0.00000000e+00 0.00000000e+00]\n",
      " [6.14406890e-04 3.95274052e-04 1.86843363e-06 9.98915792e-01\n",
      "  7.26421058e-05 0.00000000e+00 0.00000000e+00 0.00000000e+00\n",
      "  0.00000000e+00 0.00000000e+00]\n",
      " [0.00000000e+00 0.00000000e+00 1.00000000e+00 0.00000000e+00\n",
      "  0.00000000e+00 0.00000000e+00 0.00000000e+00 0.00000000e+00\n",
      "  0.00000000e+00 0.00000000e+00]\n",
      " [1.01959240e-05 2.86399474e-04 1.35392781e-06 2.80554959e-05\n",
      "  9.99673963e-01 0.00000000e+00 0.00000000e+00 0.00000000e+00\n",
      "  0.00000000e+00 0.00000000e+00]\n",
      " [1.75077555e-22 1.00000000e+00 6.64451172e-30 3.96820124e-19\n",
      "  4.47035394e-14 0.00000000e+00 0.00000000e+00 0.00000000e+00\n",
      "  0.00000000e+00 0.00000000e+00]\n",
      " [2.07404941e-02 9.03878331e-01 6.02813112e-03 3.27791311e-02\n",
      "  3.65739241e-02 0.00000000e+00 0.00000000e+00 0.00000000e+00\n",
      "  0.00000000e+00 0.00000000e+00]\n",
      " [2.45074544e-10 9.99977827e-01 1.05788777e-13 7.79788056e-09\n",
      "  2.21264272e-05 0.00000000e+00 0.00000000e+00 0.00000000e+00\n",
      "  0.00000000e+00 0.00000000e+00]\n",
      " [3.52737145e-03 2.77935318e-03 4.10127286e-05 9.93080556e-01\n",
      "  5.71695273e-04 0.00000000e+00 0.00000000e+00 0.00000000e+00\n",
      "  0.00000000e+00 0.00000000e+00]\n",
      " [4.66363718e-11 9.99994874e-01 1.19029042e-14 1.86987492e-09\n",
      "  5.08233143e-06 0.00000000e+00 0.00000000e+00 0.00000000e+00\n",
      "  0.00000000e+00 0.00000000e+00]\n",
      " [4.17253742e-13 9.99999285e-01 1.92481372e-17 3.81124854e-11\n",
      "  6.67196559e-07 0.00000000e+00 0.00000000e+00 0.00000000e+00\n",
      "  0.00000000e+00 0.00000000e+00]\n",
      " [1.16390964e-07 9.99696374e-01 4.71659267e-10 1.25895292e-06\n",
      "  3.02174507e-04 0.00000000e+00 0.00000000e+00 0.00000000e+00\n",
      "  0.00000000e+00 0.00000000e+00]\n",
      " [2.05725129e-07 5.24650297e-08 1.37419568e-12 9.99999762e-01\n",
      "  5.76562753e-09 0.00000000e+00 0.00000000e+00 0.00000000e+00\n",
      "  0.00000000e+00 0.00000000e+00]\n",
      " [1.53161026e-11 9.99990821e-01 2.34318536e-15 8.10128686e-10\n",
      "  9.17619764e-06 0.00000000e+00 0.00000000e+00 0.00000000e+00\n",
      "  0.00000000e+00 0.00000000e+00]\n",
      " [1.24774142e-25 1.00000000e+00 3.85564627e-34 9.13907349e-22\n",
      "  5.99567295e-16 0.00000000e+00 0.00000000e+00 0.00000000e+00\n",
      "  0.00000000e+00 0.00000000e+00]\n",
      " [9.85199723e-37 1.00000000e+00 0.00000000e+00 4.52323408e-31\n",
      "  1.48550687e-22 0.00000000e+00 0.00000000e+00 0.00000000e+00\n",
      "  0.00000000e+00 0.00000000e+00]\n",
      " [8.39464178e-08 7.30980400e-06 4.86337592e-09 3.87941895e-07\n",
      "  9.99992251e-01 0.00000000e+00 0.00000000e+00 0.00000000e+00\n",
      "  0.00000000e+00 0.00000000e+00]\n",
      " [1.52282291e-24 4.06036684e-27 0.00000000e+00 1.00000000e+00\n",
      "  3.53894532e-29 0.00000000e+00 0.00000000e+00 0.00000000e+00\n",
      "  0.00000000e+00 0.00000000e+00]\n",
      " [3.85881394e-05 9.91253912e-01 1.18181549e-06 1.61563526e-04\n",
      "  8.54474306e-03 0.00000000e+00 0.00000000e+00 0.00000000e+00\n",
      "  0.00000000e+00 0.00000000e+00]\n",
      " [9.13973541e-13 9.99999166e-01 5.67011068e-17 7.21451163e-11\n",
      "  8.31271109e-07 0.00000000e+00 0.00000000e+00 0.00000000e+00\n",
      "  0.00000000e+00 0.00000000e+00]\n",
      " [7.46406540e-02 8.57279450e-02 1.04953060e-02 8.07394743e-01\n",
      "  2.17412543e-02 0.00000000e+00 0.00000000e+00 0.00000000e+00\n",
      "  0.00000000e+00 0.00000000e+00]\n",
      " [1.00000000e+00 9.96088908e-18 1.33147615e-17 6.05072303e-09\n",
      "  2.76276709e-20 0.00000000e+00 0.00000000e+00 0.00000000e+00\n",
      "  0.00000000e+00 0.00000000e+00]\n",
      " [1.66300864e-16 3.76877549e-18 1.23471393e-28 1.00000000e+00\n",
      "  1.07891119e-19 0.00000000e+00 0.00000000e+00 0.00000000e+00\n",
      "  0.00000000e+00 0.00000000e+00]\n",
      " [1.55164788e-19 1.56946959e-21 5.54575919e-34 1.00000000e+00\n",
      "  2.86971946e-23 0.00000000e+00 0.00000000e+00 0.00000000e+00\n",
      "  0.00000000e+00 0.00000000e+00]\n",
      " [4.07012230e-19 0.00000000e+00 1.00000000e+00 0.00000000e+00\n",
      "  0.00000000e+00 0.00000000e+00 0.00000000e+00 0.00000000e+00\n",
      "  0.00000000e+00 0.00000000e+00]\n",
      " [2.61995842e-06 3.48821061e-09 9.99996185e-01 1.15071055e-06\n",
      "  5.15816001e-10 0.00000000e+00 0.00000000e+00 0.00000000e+00\n",
      "  0.00000000e+00 0.00000000e+00]\n",
      " [0.00000000e+00 0.00000000e+00 1.00000000e+00 0.00000000e+00\n",
      "  0.00000000e+00 0.00000000e+00 0.00000000e+00 0.00000000e+00\n",
      "  0.00000000e+00 0.00000000e+00]\n",
      " [2.28765630e-03 1.30323897e-04 9.96234715e-01 1.31918804e-03\n",
      "  2.81355369e-05 0.00000000e+00 0.00000000e+00 0.00000000e+00\n",
      "  0.00000000e+00 0.00000000e+00]\n",
      " [1.05360732e-03 9.57464635e-01 1.07220512e-04 2.48287828e-03\n",
      "  3.88917215e-02 0.00000000e+00 0.00000000e+00 0.00000000e+00\n",
      "  0.00000000e+00 0.00000000e+00]\n",
      " [1.85397314e-18 1.00000000e+00 1.73941700e-24 9.37497760e-16\n",
      "  1.10945888e-11 0.00000000e+00 0.00000000e+00 0.00000000e+00\n",
      "  0.00000000e+00 0.00000000e+00]\n",
      " [2.73461483e-12 1.90398424e-13 3.40465682e-21 1.00000000e+00\n",
      "  1.01701213e-14 0.00000000e+00 0.00000000e+00 0.00000000e+00\n",
      "  0.00000000e+00 0.00000000e+00]\n",
      " [2.42594345e-09 9.99908805e-01 2.30319019e-12 5.34754570e-08\n",
      "  9.11902680e-05 0.00000000e+00 0.00000000e+00 0.00000000e+00\n",
      "  0.00000000e+00 0.00000000e+00]\n",
      " [0.00000000e+00 0.00000000e+00 0.00000000e+00 0.00000000e+00\n",
      "  1.00000000e+00 0.00000000e+00 0.00000000e+00 0.00000000e+00\n",
      "  0.00000000e+00 0.00000000e+00]\n",
      " [1.74348509e-21 1.04952698e-23 2.01211908e-37 1.00000000e+00\n",
      "  1.43824689e-25 0.00000000e+00 0.00000000e+00 0.00000000e+00\n",
      "  0.00000000e+00 0.00000000e+00]\n",
      " [1.02483388e-02 9.18028176e-01 1.12034450e-03 4.53980193e-02\n",
      "  2.52050590e-02 0.00000000e+00 0.00000000e+00 0.00000000e+00\n",
      "  0.00000000e+00 0.00000000e+00]\n",
      " [3.84456012e-03 2.64388919e-02 1.43243326e-03 5.55097219e-03\n",
      "  9.62733150e-01 0.00000000e+00 0.00000000e+00 0.00000000e+00\n",
      "  0.00000000e+00 0.00000000e+00]\n",
      " [4.15235676e-14 1.00000000e+00 1.01918495e-18 4.84631259e-12\n",
      "  3.20691562e-08 0.00000000e+00 0.00000000e+00 0.00000000e+00\n",
      "  0.00000000e+00 0.00000000e+00]\n",
      " [3.94897256e-03 3.04965157e-04 9.93350327e-01 2.32797046e-03\n",
      "  6.78878569e-05 0.00000000e+00 0.00000000e+00 0.00000000e+00\n",
      "  0.00000000e+00 0.00000000e+00]\n",
      " [0.00000000e+00 0.00000000e+00 0.00000000e+00 0.00000000e+00\n",
      "  1.00000000e+00 0.00000000e+00 0.00000000e+00 0.00000000e+00\n",
      "  0.00000000e+00 0.00000000e+00]\n",
      " [2.07150581e-14 1.00000000e+00 4.42769309e-19 2.50168180e-12\n",
      "  7.68222463e-09 0.00000000e+00 0.00000000e+00 0.00000000e+00\n",
      "  0.00000000e+00 0.00000000e+00]\n",
      " [9.99654651e-01 1.30863668e-07 1.19808803e-07 3.45100765e-04\n",
      "  5.72757175e-09 0.00000000e+00 0.00000000e+00 0.00000000e+00\n",
      "  0.00000000e+00 0.00000000e+00]\n",
      " [4.00551185e-02 1.16640646e-02 9.19315338e-01 2.59975456e-02\n",
      "  2.96798092e-03 0.00000000e+00 0.00000000e+00 0.00000000e+00\n",
      "  0.00000000e+00 0.00000000e+00]\n",
      " [3.49292275e-03 2.51893187e-04 9.94150460e-01 2.04892922e-03\n",
      "  5.56881241e-05 0.00000000e+00 0.00000000e+00 0.00000000e+00\n",
      "  0.00000000e+00 0.00000000e+00]\n",
      " [4.72644253e-08 5.94364878e-20 1.00000000e+00 6.98176039e-17\n",
      "  3.90876322e-21 0.00000000e+00 0.00000000e+00 0.00000000e+00\n",
      "  0.00000000e+00 0.00000000e+00]\n",
      " [6.90690261e-09 9.99838114e-01 9.46633223e-12 1.28038693e-07\n",
      "  1.61751086e-04 0.00000000e+00 0.00000000e+00 0.00000000e+00\n",
      "  0.00000000e+00 0.00000000e+00]\n",
      " [2.70919145e-06 1.04011080e-04 2.86104950e-07 8.60231557e-06\n",
      "  9.99884367e-01 0.00000000e+00 0.00000000e+00 0.00000000e+00\n",
      "  0.00000000e+00 0.00000000e+00]\n",
      " [1.78073823e-01 1.70748875e-01 4.76181835e-01 1.26005352e-01\n",
      "  4.89901081e-02 0.00000000e+00 0.00000000e+00 0.00000000e+00\n",
      "  0.00000000e+00 0.00000000e+00]\n",
      " [6.42537543e-07 3.46300512e-05 5.29154001e-08 2.38332655e-06\n",
      "  9.99962330e-01 0.00000000e+00 0.00000000e+00 0.00000000e+00\n",
      "  0.00000000e+00 0.00000000e+00]\n",
      " [2.50729812e-07 9.99230504e-01 1.26341460e-09 2.48450601e-06\n",
      "  7.66762591e-04 0.00000000e+00 0.00000000e+00 0.00000000e+00\n",
      "  0.00000000e+00 0.00000000e+00]\n",
      " [8.93613498e-04 6.00385596e-04 3.62059654e-06 9.98389363e-01\n",
      "  1.13028575e-04 0.00000000e+00 0.00000000e+00 0.00000000e+00\n",
      "  0.00000000e+00 0.00000000e+00]\n",
      " [3.64091466e-05 7.57530623e-04 6.02488490e-06 8.73100144e-05\n",
      "  9.99112666e-01 0.00000000e+00 0.00000000e+00 0.00000000e+00\n",
      "  0.00000000e+00 0.00000000e+00]\n",
      " [7.20375896e-01 4.58397716e-02 2.43669208e-02 2.00200900e-01\n",
      "  9.21655539e-03 0.00000000e+00 0.00000000e+00 0.00000000e+00\n",
      "  0.00000000e+00 0.00000000e+00]\n",
      " [4.82752029e-15 9.99999762e-01 4.13341021e-20 1.01079757e-12\n",
      "  1.89539492e-07 0.00000000e+00 0.00000000e+00 0.00000000e+00\n",
      "  0.00000000e+00 0.00000000e+00]\n",
      " [8.62667875e-05 9.92477894e-01 3.72902332e-06 3.01386230e-04\n",
      "  7.13071693e-03 0.00000000e+00 0.00000000e+00 0.00000000e+00\n",
      "  0.00000000e+00 0.00000000e+00]\n",
      " [1.92302192e-04 2.70120846e-03 4.24432401e-05 3.85168416e-04\n",
      "  9.96678948e-01 0.00000000e+00 0.00000000e+00 0.00000000e+00\n",
      "  0.00000000e+00 0.00000000e+00]\n",
      " [1.22960028e-05 3.30470299e-04 1.68652707e-06 3.31563970e-05\n",
      "  9.99622345e-01 0.00000000e+00 0.00000000e+00 0.00000000e+00\n",
      "  0.00000000e+00 0.00000000e+00]]\n"
     ]
    }
   ],
   "source": [
    "#See network perform on specific data\n",
    "predictions = model.predict(x_test[:100])\n",
    "print(predictions)"
   ]
  },
  {
   "cell_type": "code",
   "execution_count": 15,
   "metadata": {},
   "outputs": [
    {
     "name": "stdout",
     "output_type": "stream",
     "text": [
      "Network guess: sun\n",
      "Actual truth: sun\n"
     ]
    },
    {
     "data": {
      "text/plain": [
       "<matplotlib.image.AxesImage at 0x2a2cfb544f0>"
      ]
     },
     "execution_count": 15,
     "metadata": {},
     "output_type": "execute_result"
    },
    {
     "data": {
      "image/png": "[encoded data removed]",
      "text/plain": [
       "<Figure size 432x288 with 1 Axes>"
      ]
     },
     "metadata": {
      "needs_background": "light"
     },
     "output_type": "display_data"
    }
   ],
   "source": [
    "#Run this cell to see a random element of the testing set and  model prediction\n",
    "sample = random.randint(0, 99)\n",
    "\n",
    "print(f\"Network guess: {CATEGORIES[np.argmax(predictions[sample])]}\")\n",
    "print(f\"Actual truth: {CATEGORIES[y_test[sample]]}\")\n",
    "\n",
    "plt.imshow(x_test[sample])"
   ]
  },
  {
   "cell_type": "code",
   "execution_count": 131,
   "metadata": {},
   "outputs": [
    {
     "ename": "NameError",
     "evalue": "name 'plot_image' is not defined",
     "output_type": "error",
     "traceback": [
      "\u001b[1;31m---------------------------------------------------------------------------\u001b[0m",
      "\u001b[1;31mNameError\u001b[0m                                 Traceback (most recent call last)",
      "\u001b[1;32m<ipython-input-131-7b40ad280f95>\u001b[0m in \u001b[0;36m<module>\u001b[1;34m\u001b[0m\n\u001b[0;32m      5\u001b[0m \u001b[1;32mfor\u001b[0m \u001b[0mi\u001b[0m \u001b[1;32min\u001b[0m \u001b[0mrange\u001b[0m\u001b[1;33m(\u001b[0m\u001b[0mnum_images\u001b[0m\u001b[1;33m)\u001b[0m\u001b[1;33m:\u001b[0m\u001b[1;33m\u001b[0m\u001b[1;33m\u001b[0m\u001b[0m\n\u001b[0;32m      6\u001b[0m   \u001b[0mplt\u001b[0m\u001b[1;33m.\u001b[0m\u001b[0msubplot\u001b[0m\u001b[1;33m(\u001b[0m\u001b[0mnum_rows\u001b[0m\u001b[1;33m,\u001b[0m \u001b[1;36m2\u001b[0m\u001b[1;33m*\u001b[0m\u001b[0mnum_cols\u001b[0m\u001b[1;33m,\u001b[0m \u001b[1;36m2\u001b[0m\u001b[1;33m*\u001b[0m\u001b[0mi\u001b[0m\u001b[1;33m+\u001b[0m\u001b[1;36m1\u001b[0m\u001b[1;33m)\u001b[0m\u001b[1;33m\u001b[0m\u001b[1;33m\u001b[0m\u001b[0m\n\u001b[1;32m----> 7\u001b[1;33m   \u001b[0mplot_image\u001b[0m\u001b[1;33m(\u001b[0m\u001b[0mi\u001b[0m\u001b[1;33m,\u001b[0m \u001b[0mpredictions\u001b[0m\u001b[1;33m[\u001b[0m\u001b[0mi\u001b[0m\u001b[1;33m]\u001b[0m\u001b[1;33m,\u001b[0m \u001b[0mCATEGORIES\u001b[0m\u001b[1;33m,\u001b[0m \u001b[0mtest_x\u001b[0m\u001b[1;33m)\u001b[0m\u001b[1;33m\u001b[0m\u001b[1;33m\u001b[0m\u001b[0m\n\u001b[0m\u001b[0;32m      8\u001b[0m   \u001b[0mplt\u001b[0m\u001b[1;33m.\u001b[0m\u001b[0msubplot\u001b[0m\u001b[1;33m(\u001b[0m\u001b[0mnum_rows\u001b[0m\u001b[1;33m,\u001b[0m \u001b[1;36m2\u001b[0m\u001b[1;33m*\u001b[0m\u001b[0mnum_cols\u001b[0m\u001b[1;33m,\u001b[0m \u001b[1;36m2\u001b[0m\u001b[1;33m*\u001b[0m\u001b[0mi\u001b[0m\u001b[1;33m+\u001b[0m\u001b[1;36m2\u001b[0m\u001b[1;33m)\u001b[0m\u001b[1;33m\u001b[0m\u001b[1;33m\u001b[0m\u001b[0m\n\u001b[0;32m      9\u001b[0m   \u001b[0mplot_value_array\u001b[0m\u001b[1;33m(\u001b[0m\u001b[0mi\u001b[0m\u001b[1;33m,\u001b[0m \u001b[0mpredictions\u001b[0m\u001b[1;33m[\u001b[0m\u001b[0mi\u001b[0m\u001b[1;33m]\u001b[0m\u001b[1;33m,\u001b[0m \u001b[0mCATEGORIES\u001b[0m\u001b[1;33m)\u001b[0m\u001b[1;33m\u001b[0m\u001b[1;33m\u001b[0m\u001b[0m\n",
      "\u001b[1;31mNameError\u001b[0m: name 'plot_image' is not defined"
     ]
    },
    {
     "data": {
      "image/png": "[encoded data removed]",
      "text/plain": [
       "<Figure size 864x720 with 1 Axes>"
      ]
     },
     "metadata": {
      "needs_background": "light"
     },
     "output_type": "display_data"
    }
   ],
   "source": [
   ]
  }
 ],
 "metadata": {
  "kernelspec": {
   "display_name": "Python 3",
   "language": "python",
   "name": "python3"
  },
  "language_info": {
   "codemirror_mode": {
    "name": "ipython",
    "version": 3
   },
   "file_extension": ".py",
   "mimetype": "text/x-python",
   "name": "python",
   "nbconvert_exporter": "python",
   "pygments_lexer": "ipython3",
   "version": "3.8.8"
  }
 },
 "nbformat": 4,
 "nbformat_minor": 4
}
